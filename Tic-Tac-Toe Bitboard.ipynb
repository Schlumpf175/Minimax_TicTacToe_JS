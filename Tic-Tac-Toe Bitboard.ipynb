{
 "cells": [
  {
   "cell_type": "markdown",
   "metadata": {},
   "source": [
    "# Tic-Tac-Toe via Bitboards"
   ]
  },
  {
   "cell_type": "markdown",
   "metadata": {},
   "source": [
    "This notebook defines the game [tic-tac-toe](https://en.wikipedia.org/wiki/Tic-tac-toe).\n",
    "It is played on a $3 \\times 3$ board.  There are two players, which are called `X`and `O`.  Player `X` starts.  Player `X` always puts an `'X'` into an empty field on the board, while player `O` always puts an `'O'` in an empty field of the board.  The goal of the game for player `X` is to get three **Xs** into a row, column, or diagonal line, while player `O` needs to get three **Os** into a row, column, or diagonal line.\n",
    "\n",
    "In this notebook, the board is represented as a *bitboard*, i.e. the states are represented as integers.  If `s` is a state, the first nine bits of `s` specify the positions of the `X`es, while the second nine bits specify the positions of the `O`s.  Player `X` is encoded as the number `0`,  while player `O` is encoded as the number `1`. \n",
    "\n",
    "from Stoetmann\n",
    "\n",
    "Jupyter Notebook had issues using the libary we used to read inputs. Therefor this notebook is only for documentation and performing Minimax"
   ]
  },
  {
   "cell_type": "markdown",
   "metadata": {},
   "source": [
    "``players`` and ``start`` define the available players and which one starts"
   ]
  },
  {
   "cell_type": "code",
   "execution_count": 1,
   "metadata": {},
   "outputs": [],
   "source": [
    "let players = [0, 1];\n",
    "let start = 0;"
   ]
  },
  {
   "cell_type": "markdown",
   "metadata": {},
   "source": [
    "The function ``setBits`` takes a list of ``Integers`` and then set the repective bits inside an integer"
   ]
  },
  {
   "cell_type": "code",
   "execution_count": 2,
   "metadata": {},
   "outputs": [],
   "source": [
    "function setBits(bits) {\n",
    "    let result = 0;\n",
    "    bits.forEach(bit => {\n",
    "        result = result | 1 << bit;\n",
    "    });\n",
    "    return result;\n",
    "};"
   ]
  },
  {
   "cell_type": "code",
   "execution_count": 3,
   "metadata": {},
   "outputs": [
    {
     "data": {
      "text/plain": [
       "42"
      ]
     },
     "execution_count": 3,
     "metadata": {},
     "output_type": "execute_result"
    }
   ],
   "source": [
    "//Test\n",
    "setBits([1,3,5])\n",
    "//Expected: 42"
   ]
  },
  {
   "cell_type": "markdown",
   "metadata": {},
   "source": [
    "``AllLines`` defines all possible winning conditions for a player. As longs as one is fulfilled the game is won"
   ]
  },
  {
   "cell_type": "code",
   "execution_count": 4,
   "metadata": {},
   "outputs": [],
   "source": [
    "let AllLines = [  \n",
    "                setBits([0,1,2]), // 1st row\n",
    "                setBits([3,4,5]), // 2nd row\n",
    "                setBits([6,7,8]), // 3rd row\n",
    "                setBits([0,3,6]), // 1st column\n",
    "                setBits([1,4,7]), // 2nd column\n",
    "                setBits([2,5,8]), // 3rd column\n",
    "                setBits([0,4,8]), // falling diagonal\n",
    "                setBits([2,4,6]) // rising diagonal\n",
    "               ];"
   ]
  },
  {
   "cell_type": "markdown",
   "metadata": {},
   "source": [
    "The ``setBit`` is simelar to the ``setBits`` function but only accepts one integer and therfore only sets one Bit"
   ]
  },
  {
   "cell_type": "code",
   "execution_count": 5,
   "metadata": {},
   "outputs": [],
   "source": [
    "function setBit(bit) {\n",
    "    return 1 << bit;\n",
    "};"
   ]
  },
  {
   "cell_type": "code",
   "execution_count": 6,
   "metadata": {},
   "outputs": [
    {
     "data": {
      "text/plain": [
       "8"
      ]
     },
     "execution_count": 6,
     "metadata": {},
     "output_type": "execute_result"
    }
   ],
   "source": [
    "//Test\n",
    "setBit(3)\n",
    "//Expected: 8"
   ]
  },
  {
   "cell_type": "markdown",
   "metadata": {},
   "source": [
    "``toBoard`` prints the current state of the board"
   ]
  },
  {
   "cell_type": "code",
   "execution_count": 7,
   "metadata": {},
   "outputs": [],
   "source": [
    "function toBoard(state) {\n",
    "    let result = \"+-+-+-+\\n\";\n",
    "    for (let i = 0; i < 9; i++) {\n",
    "        if ((state & (1 << i)) !== 0) {\n",
    "            result += \"|X\";\n",
    "        }\n",
    "        else if ((state & (1 << (i + 9))) !== 0) {\n",
    "            result += '|O';\n",
    "        }\n",
    "        else {\n",
    "            result += '| ';\n",
    "        }\n",
    "        if (((i + 1) % 3) == 0) {\n",
    "            result += '|\\n+-+-+-+\\r\\n';\n",
    "        }\n",
    "    }\n",
    "    return result;\n",
    "};"
   ]
  },
  {
   "cell_type": "code",
   "execution_count": 8,
   "metadata": {},
   "outputs": [
    {
     "name": "stdout",
     "output_type": "stream",
     "text": [
      "+-+-+-+\n",
      "|X|X| |\n",
      "+-+-+-+\r\n",
      "|O|O|X|\n",
      "+-+-+-+\r\n",
      "| |O|X|\n",
      "+-+-+-+\r\n",
      "\n"
     ]
    }
   ],
   "source": [
    "//Test\n",
    "console.log(toBoard(setBits([0,1,5,8,9+3,9+4,9+7])))"
   ]
  },
  {
   "cell_type": "markdown",
   "metadata": {},
   "source": [
    "``allFree`` gives for a ``state`` all free fields as a list of their index"
   ]
  },
  {
   "cell_type": "code",
   "execution_count": 9,
   "metadata": {},
   "outputs": [],
   "source": [
    "function allFree(state) {\n",
    "    let freeCells = [];\n",
    "    for (let i = 0; i < 9; i++) {\n",
    "        if ((state & ( (1 << i) + (1 <<(i + 9)) )) === 0) {\n",
    "            freeCells.push(i);\n",
    "        }\n",
    "    }\n",
    "    return freeCells;\n",
    "};"
   ]
  },
  {
   "cell_type": "code",
   "execution_count": 10,
   "metadata": {},
   "outputs": [
    {
     "data": {
      "text/plain": [
       "[ 2, 6 ]"
      ]
     },
     "execution_count": 10,
     "metadata": {},
     "output_type": "execute_result"
    }
   ],
   "source": [
    "allFree(setBits([0,1,5,8,9+3,9+4,9+7]))"
   ]
  },
  {
   "cell_type": "markdown",
   "metadata": {},
   "source": [
    "``nextStates`` gives for a ``state`` and a ``player`` all states that could occur next"
   ]
  },
  {
   "cell_type": "code",
   "execution_count": 11,
   "metadata": {},
   "outputs": [],
   "source": [
    "function nextStates(state, player) {\n",
    "    const empty = allFree(state);\n",
    "    let result = [];\n",
    "    empty.forEach(i => {\n",
    "        let nextState = state | setBit((player * 9) + i);\n",
    "        result.push(nextState);\n",
    "    });\n",
    "    return result;\n",
    "};"
   ]
  },
  {
   "cell_type": "code",
   "execution_count": 12,
   "metadata": {},
   "outputs": [
    {
     "name": "stdout",
     "output_type": "stream",
     "text": [
      "current state: \n",
      "+-+-+-+\n",
      "| |O|X|\n",
      "+-+-+-+\n",
      "|X|O|X|\n",
      "+-+-+-+\n",
      "|O| | |\n",
      "+-+-+-+\n",
      "\n",
      "nextStates: \n",
      "\n",
      "+-+-+-+\n",
      "|X|O|X|\n",
      "+-+-+-+\n",
      "|X|O|X|\n",
      "+-+-+-+\n",
      "|O| | |\n",
      "+-+-+-+\n",
      "\n",
      "+-+-+-+\n",
      "| |O|X|\n",
      "+-+-+-+\n",
      "|X|O|X|\n",
      "+-+-+-+\n",
      "|O|X| |\n",
      "+-+-+-+\n",
      "\n",
      "+-+-+-+\n",
      "| |O|X|\n",
      "+-+-+-+\n",
      "|X|O|X|\n",
      "+-+-+-+\n",
      "|O| |X|\n",
      "+-+-+-+\n",
      "\n"
     ]
    }
   ],
   "source": [
    "let state = setBits([2,3,5,10,13,15]);\n",
    "console.log(\"current state: \\n\" + toBoard(state));\n",
    "\n",
    "console.log(\"nextStates: \\n\");\n",
    "nextStates(state, 0).forEach(i => {\n",
    "    console.log(toBoard(i));\n",
    "});"
   ]
  },
  {
   "cell_type": "markdown",
   "metadata": {},
   "source": [
    "The ``utility`` function returns if a given ``player`` has won or lost in a specific ``state``.\n",
    "\n",
    "A ``1`` is retured for a win of player, a ``-1`` for a loss. ``0`` means its a draw and for ``null`` its not yet finished"
   ]
  },
  {
   "cell_type": "code",
   "execution_count": 13,
   "metadata": {},
   "outputs": [],
   "source": [
    "function utility(state, player) {\n",
    "    for (let i = 0; i < AllLines.length; i++) {\n",
    "        const mask = AllLines[i];\n",
    "        if ((state & mask) == mask) {\n",
    "            return 1 - (2 * player);\n",
    "        }\n",
    "        if (((state >> 9) & mask) == mask) {\n",
    "            return -1 + (2 * player);\n",
    "        }\n",
    "    };\n",
    "    if (((state & 511) | (state >> 9)) !== 511) {\n",
    "        return null;\n",
    "    }\n",
    "    return 0;\n",
    "};"
   ]
  },
  {
   "cell_type": "code",
   "execution_count": 14,
   "metadata": {},
   "outputs": [
    {
     "name": "stdout",
     "output_type": "stream",
     "text": [
      "+-+-+-+\n",
      "|X|O|X|\n",
      "+-+-+-+\n",
      "|O|O|X|\n",
      "+-+-+-+\n",
      "|X|X|O|\n",
      "+-+-+-+\n",
      "\n",
      "0\n"
     ]
    }
   ],
   "source": [
    "s1 = setBits([0, 2, 5, 6, 7, 1+9, 3+9, 4+9, 8+9]);\n",
    "console.log(toBoard(s1));\n",
    "console.log(utility(s1, 0));"
   ]
  },
  {
   "cell_type": "markdown",
   "metadata": {},
   "source": [
    "The function heuristic tries to guess the value of a state.  As it is never called in terminal states, it assumes that the game will be drawn.\n",
    "\n",
    "from Stoetmann"
   ]
  },
  {
   "cell_type": "code",
   "execution_count": 15,
   "metadata": {},
   "outputs": [],
   "source": [
    "function heuristic(state, player) {\n",
    "    return 0;\n",
    "};"
   ]
  },
  {
   "cell_type": "markdown",
   "metadata": {},
   "source": [
    "``finished`` checks if for a given ``state`` the game is finished. This is true if ``utility`` of a player return ``1``,``-1`` or ``0``"
   ]
  },
  {
   "cell_type": "code",
   "execution_count": 16,
   "metadata": {},
   "outputs": [],
   "source": [
    "function finished(state) {\n",
    "    return (utility(state, 0) !== null);\n",
    "};"
   ]
  },
  {
   "cell_type": "code",
   "execution_count": 17,
   "metadata": {},
   "outputs": [
    {
     "name": "stdout",
     "output_type": "stream",
     "text": [
      "+-+-+-+\n",
      "|X|O|X|\n",
      "+-+-+-+\n",
      "|O|O|X|\n",
      "+-+-+-+\n",
      "|X|X|O|\n",
      "+-+-+-+\n",
      "\n",
      "true\n"
     ]
    }
   ],
   "source": [
    "let s = setBits([0, 2, 5, 6, 7, 1+9, 3+9, 4+9, 8+9]);\n",
    "console.log(toBoard(s));\n",
    "console.log(finished(s));"
   ]
  },
  {
   "cell_type": "markdown",
   "metadata": {},
   "source": [
    "Everything below is just for documentation purposes ``readline-sync`` did only work in a regular install of ``node-js`` without jupyter notebook"
   ]
  },
  {
   "cell_type": "code",
   "execution_count": 1,
   "metadata": {},
   "outputs": [],
   "source": [
    "const readline = require('readline-sync');"
   ]
  },
  {
   "cell_type": "markdown",
   "metadata": {},
   "source": [
    "``getMove`` allows the player to input a move and return the new state"
   ]
  },
  {
   "cell_type": "code",
   "execution_count": 19,
   "metadata": {},
   "outputs": [],
   "source": [
    "function getMove(state) {\n",
    "    let move = readline.question(\"Enter move here: \");\n",
    "    move = move.split(\",\");\n",
    "    let row = parseInt(move[0]);\n",
    "    let col = parseInt(move[1]);\n",
    "    let mask = setBit(9 + row * 3 + col);\n",
    "    if ((state & mask) === 0) {\n",
    "        return state | mask;\n",
    "    }\n",
    "    else {\n",
    "        console.log(\"Illegal input. Please try again.\")\n",
    "        return getMove(state);\n",
    "    }\n",
    "};"
   ]
  },
  {
   "cell_type": "code",
   "execution_count": 20,
   "metadata": {},
   "outputs": [],
   "source": [
    "//console.log(getMove(0));"
   ]
  },
  {
   "cell_type": "markdown",
   "metadata": {},
   "source": [
    "``finalMsg`` prints a message if the player has won"
   ]
  },
  {
   "cell_type": "code",
   "execution_count": 21,
   "metadata": {},
   "outputs": [],
   "source": [
    "function finalMsg(state) {\n",
    "    if (finished(state) === true) {\n",
    "        if (utility(state, 1) === 1) {\n",
    "            console.log(\"You have won!\");\n",
    "        }\n",
    "        else if (utility(state, 1) === -1){\n",
    "            console.log(\"You have lost!\");\n",
    "        }\n",
    "        else {\n",
    "            console.log(\"It's a draw.\");\n",
    "        }\n",
    "        return true;\n",
    "    };\n",
    "    return false;\n",
    "};"
   ]
  },
  {
   "cell_type": "code",
   "execution_count": 22,
   "metadata": {},
   "outputs": [
    {
     "name": "stdout",
     "output_type": "stream",
     "text": [
      "You have lost!\n"
     ]
    },
    {
     "data": {
      "text/plain": [
       "true"
      ]
     },
     "execution_count": 22,
     "metadata": {},
     "output_type": "execute_result"
    }
   ],
   "source": [
    "finalMsg(setBits([0, 2, 3, 6, 1+9,  4+9, 5+9]));"
   ]
  },
  {
   "cell_type": "markdown",
   "metadata": {},
   "source": []
  }
 ],
 "metadata": {
  "kernelspec": {
   "display_name": "Python 3",
   "language": "python",
   "name": "python3"
  },
  "language_info": {
   "codemirror_mode": {
    "name": "ipython",
    "version": 3
   },
   "file_extension": ".py",
   "mimetype": "text/x-python",
   "name": "python",
   "nbconvert_exporter": "python",
   "pygments_lexer": "ipython3",
   "version": "3.8.6"
  }
 },
 "nbformat": 4,
 "nbformat_minor": 4
}
