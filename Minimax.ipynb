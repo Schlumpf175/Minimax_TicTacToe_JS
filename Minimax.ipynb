{
 "cells": [
  {
   "cell_type": "markdown",
   "metadata": {},
   "source": [
    "# The Minimax Algorithm\n",
    "\n",
    "This notebook implements the [minimax algorithm](https://en.wikipedia.org/wiki/Minimax) and thereby implements a program that can play various deterministic, zero-sum, two-person games with perfect information. from Stroetmann"
   ]
  },
  {
   "cell_type": "markdown",
   "metadata": {},
   "source": [
    "Since Jupyter Nootbook with the NodeJS implemintation has problems loading .ipynb files we will use a plain .js file. All functions of the game are stored ``game`` variable for further use.\n",
    "\n",
    "Also Jupyter Nootbook has the same issue as in the ``Tic-Tac-Toe Bitboard.ipynb`` so no input can be read. This means that this Notebook is just for documentation and when playing the game ``node minimax.js`` needs to be excuted"
   ]
  },
  {
   "cell_type": "code",
   "execution_count": 1,
   "metadata": {},
   "outputs": [],
   "source": [
    "const game = require(\"./Tic-Tac-Toe Bitboard.js\");"
   ]
  },
  {
   "cell_type": "markdown",
   "metadata": {},
   "source": [
    "``numValueCalls``is a util value that stores how often the ``value`` function is called. ``chache`` stores the results of the value function so they can be reused"
   ]
  },
  {
   "cell_type": "code",
   "execution_count": 2,
   "metadata": {},
   "outputs": [],
   "source": [
    "let numValueCalls = 0;\n",
    "let cache = {};"
   ]
  },
  {
   "cell_type": "markdown",
   "metadata": {},
   "source": [
    "The ``other`` function always returns the opposite player of the ``player`` provided "
   ]
  },
  {
   "cell_type": "code",
   "execution_count": 3,
   "metadata": {},
   "outputs": [],
   "source": [
    "function other(player) {\n",
    "    for (let i = 0; i < game.players.length; i++) {\n",
    "        if (game.players[i] !== player) {\n",
    "            return game.players[i];\n",
    "        }\n",
    "    }\n",
    "};"
   ]
  },
  {
   "cell_type": "markdown",
   "metadata": {},
   "source": [
    "``cacheValue`` is a wrapper around the ``value`` function so the results of the calculation can be stored in the ``cache`` variable and reused if the function is called again with the same ``state`` and ``player``"
   ]
  },
  {
   "cell_type": "code",
   "execution_count": 4,
   "metadata": {},
   "outputs": [],
   "source": [
    "function cacheValue(state, player) {\n",
    "    if (cache[[state, player]] !== undefined) {\n",
    "        return cache[[state, player]];\n",
    "    }\n",
    "    let val = value(state, player);\n",
    "    cache[[state, player]] = val;\n",
    "    return val;\n",
    "};"
   ]
  },
  {
   "cell_type": "markdown",
   "metadata": {},
   "source": [
    "The ``value`` function implements the main idea behind the Minimax algorithm and recursivly calls itself to calculate the value for each reachable ``states`` from the curent ``state`` with the active ``player``"
   ]
  },
  {
   "cell_type": "code",
   "execution_count": 5,
   "metadata": {},
   "outputs": [],
   "source": [
    "function value(state, player) {\n",
    "    numValueCalls += 1;\n",
    "    if (game.finished(state)) {\n",
    "        return game.utility(state, player);\n",
    "    }\n",
    "    let o = other(player);\n",
    "    let result = -1;\n",
    "    game.nextStates(state, player).forEach(ns => {\n",
    "        let nextValue = (-cacheValue(ns, o));\n",
    "        if (nextValue > result) {\n",
    "            result = nextValue;\n",
    "        }\n",
    "    });\n",
    "    return result;\n",
    "};"
   ]
  },
  {
   "cell_type": "markdown",
   "metadata": {},
   "source": [
    "``bestMove`` selects the best possible move for a ``state`` and a ``player``. If there are multiple best moves one of them is randomly choosen. This works by comparing the values of the ``nextStates`` for the current ``state`` and ``player`` with the ``value`` of the current state. Every state that has the same value is added to a list from which wil be choosen."
   ]
  },
  {
   "cell_type": "code",
   "execution_count": 6,
   "metadata": {},
   "outputs": [],
   "source": [
    "function bestMove(state, player) {\n",
    "    let ns = game.nextStates(state, player);\n",
    "    let bestValue = cacheValue(state, player);\n",
    "    let bestMoves = [];\n",
    "    ns.forEach(nextState => {\n",
    "        if ((-cacheValue(nextState, other(player))) === bestValue) {\n",
    "            bestMoves.push(nextState);\n",
    "        }\n",
    "    });\n",
    "    let rand = Math.floor(Math.random() * bestMoves.length);\n",
    "    let bestState = bestMoves[rand];\n",
    "    return [bestValue, bestState];\n",
    "};"
   ]
  },
  {
   "cell_type": "markdown",
   "metadata": {},
   "source": [
    "``playGame`` puts everthing together and uses the ``bestMove`` function to select the best move and then performs it. Afterwards it lets the player input their move and it repeats until either a draw, win or lose is achieved."
   ]
  },
  {
   "cell_type": "code",
   "execution_count": 7,
   "metadata": {},
   "outputs": [],
   "source": [
    "function playGame() {\n",
    "    let state = game.start;\n",
    "    while (true) {\n",
    "        let firstPlayer = game.players[0];\n",
    "        let bm = bestMove(state, firstPlayer);\n",
    "        let val = bm[0];\n",
    "        state = bm[1];\n",
    "        console.log(game.toBoard(state));\n",
    "        console.log(\"For me, the game has the value \" + val);\n",
    "        if (game.finished(state)) {\n",
    "            game.finalMsg(state);\n",
    "            return;\n",
    "        }\n",
    "        state = game.getMove(state);\n",
    "        console.log(game.toBoard(state));\n",
    "        if (game.finished(state)) {\n",
    "            game.finalMsg(state);\n",
    "            return;\n",
    "        }\n",
    "    }\n",
    "};"
   ]
  },
  {
   "cell_type": "markdown",
   "metadata": {},
   "source": [
    "This call to ``cacheValue`` calculates the ``value`` for all the states reachable. And is used for the benchmark"
   ]
  },
  {
   "cell_type": "code",
   "execution_count": 8,
   "metadata": {
    "scrolled": true
   },
   "outputs": [],
   "source": [
    "let val = cacheValue(game.start, 0);"
   ]
  },
  {
   "cell_type": "markdown",
   "metadata": {},
   "source": [
    "If both values equal 5478 for TicTacToe the ``cache`` is working perfectly. Which is all the possible states and all entries in the ``cache``"
   ]
  },
  {
   "cell_type": "code",
   "execution_count": 9,
   "metadata": {},
   "outputs": [
    {
     "name": "stdout",
     "output_type": "stream",
     "text": [
      "5478\n",
      "5478\n"
     ]
    }
   ],
   "source": [
    "console.log(numValueCalls);\n",
    "console.log(Object.keys(cache).length);"
   ]
  },
  {
   "cell_type": "markdown",
   "metadata": {},
   "source": [
    "Call to ``playGame`` to start it. "
   ]
  },
  {
   "cell_type": "code",
   "execution_count": 10,
   "metadata": {},
   "outputs": [],
   "source": [
    "//playGame();"
   ]
  }
 ],
 "metadata": {
  "kernelspec": {
   "display_name": "Javascript (Node.js)",
   "language": "javascript",
   "name": "javascript"
  },
  "language_info": {
   "file_extension": ".js",
   "mimetype": "application/javascript",
   "name": "javascript",
   "version": "14.8.0"
  }
 },
 "nbformat": 4,
 "nbformat_minor": 4
}
